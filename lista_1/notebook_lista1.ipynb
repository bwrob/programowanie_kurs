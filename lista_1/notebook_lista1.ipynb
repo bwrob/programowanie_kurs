{
 "cells": [
  {
   "cell_type": "code",
   "execution_count": null,
   "metadata": {},
   "outputs": [
    {
     "ename": "",
     "evalue": "",
     "output_type": "error",
     "traceback": [
      "\u001b[1;31mThe kernel failed to start as a dll could not be loaded. \n",
      "View Jupyter <a href='command:jupyter.viewOutput'>log</a> for further details.\n",
      "<a href='https://aka.ms/kernelFailuresDllLoad'>Learn more</a>"
     ]
    }
   ],
   "source": [
    "from lista1 import some\n",
    "\n",
    "some()"
   ]
  }
 ],
 "metadata": {
  "interpreter": {
   "hash": "c6aa70232a5634ac5713be63c4238a4d8d176b38b1afcb691bc22af6b67b6827"
  },
  "kernelspec": {
   "display_name": "Python 3.9.20 ('programowanie-kurs-CprESWbb-py3.9')",
   "language": "python",
   "name": "python3"
  },
  "language_info": {
   "name": "python",
   "version": "3.9.20"
  },
  "orig_nbformat": 4
 },
 "nbformat": 4,
 "nbformat_minor": 2
}
