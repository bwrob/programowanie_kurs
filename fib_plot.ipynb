{
 "cells": [
  {
   "cell_type": "code",
   "execution_count": null,
   "metadata": {},
   "outputs": [],
   "source": [
    "from fib import fib_rekurencja\n",
    "from fib import fib_iteracyjnie\n",
    "\n",
    "fib_rekurencja(10)"
   ]
  },
  {
   "cell_type": "code",
   "execution_count": null,
   "metadata": {},
   "outputs": [],
   "source": []
  },
  {
   "cell_type": "code",
   "execution_count": null,
   "metadata": {},
   "outputs": [],
   "source": []
  },
  {
   "cell_type": "code",
   "execution_count": null,
   "metadata": {},
   "outputs": [],
   "source": [
    "def hiperkula(r: float, n: int) -> float:\n",
    "    \"\"\"Oblicza objetosc n wymiarowej hiperkuli o promieniu r.\"\"\"\n",
    "    return pi ** (n / 2) / gamma(n / 2 + 1) * r**n\n",
    "\n",
    "\n",
    "pary = [\n",
    "    (\n",
    "        n,\n",
    "        hiperkula(1, n),\n",
    "    )\n",
    "    for n in range(20)\n",
    "]\n",
    "print(pary)\n",
    "\n",
    "plt.plot(*zip(*pary, strict=False), \"go\")\n",
    "\n",
    "plt.grid(True)\n",
    "plt.title(\"n-wymiarowa hiperkula o promieniu 1\")\n",
    "\n",
    "plt.xlabel(\"n\")\n",
    "plt.xticks(np.arange(0, 20, step=1))\n",
    "plt.xlim(-0.3, 20)\n",
    "\n",
    "plt.ylabel(\"objetosc\")\n",
    "plt.ylim(-0.3, 5.6)\n",
    "plt.yticks(np.arange(0, 6, step=0.5))\n",
    "plt.show()"
   ]
  }
 ],
 "metadata": {
  "language_info": {
   "name": "python"
  }
 },
 "nbformat": 4,
 "nbformat_minor": 2
}
