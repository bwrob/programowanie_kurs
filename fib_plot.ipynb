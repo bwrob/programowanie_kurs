{
 "cells": [
  {
   "cell_type": "code",
   "execution_count": 1,
   "metadata": {},
   "outputs": [
    {
     "data": {
      "text/plain": [
       "55"
      ]
     },
     "execution_count": 1,
     "metadata": {},
     "output_type": "execute_result"
    }
   ],
   "source": [
    "from fib import fib_rekurencja\n",
    "from fib import fib_iteracyjnie\n",
    "\n",
    "fib_rekurencja(10)"
   ]
  },
  {
   "cell_type": "code",
   "execution_count": null,
   "metadata": {},
   "outputs": [],
   "source": []
  },
  {
   "cell_type": "code",
   "execution_count": null,
   "metadata": {},
   "outputs": [],
   "source": []
  },
  {
   "cell_type": "code",
   "execution_count": null,
   "metadata": {},
   "outputs": [],
   "source": [
    "def hiperkula(r: float, n: int) -> float:\n",
    "    \"\"\"Oblicza objetosc n wymiarowej hiperkuli o promieniu r.\"\"\"\n",
    "    return pi ** (n / 2) / gamma(n / 2 + 1) * r**n\n",
    "\n",
    "\n",
    "pary = [\n",
    "    (\n",
    "        n,\n",
    "        hiperkula(1, n),\n",
    "    )\n",
    "    for n in range(20)\n",
    "]\n",
    "print(pary)\n",
    "\n",
    "plt.plot(*zip(*pary, strict=False), \"go\")\n",
    "\n",
    "plt.grid(True)\n",
    "plt.title(\"n-wymiarowa hiperkula o promieniu 1\")\n",
    "\n",
    "plt.xlabel(\"n\")\n",
    "plt.xticks(np.arange(0, 20, step=1))\n",
    "plt.xlim(-0.3, 20)\n",
    "\n",
    "plt.ylabel(\"objetosc\")\n",
    "plt.ylim(-0.3, 5.6)\n",
    "plt.yticks(np.arange(0, 6, step=0.5))\n",
    "plt.show()"
   ]
  }
 ],
 "metadata": {
  "kernelspec": {
   "display_name": "base",
   "language": "python",
   "name": "python3"
  },
  "language_info": {
   "codemirror_mode": {
    "name": "ipython",
    "version": 3
   },
   "file_extension": ".py",
   "mimetype": "text/x-python",
   "name": "python",
   "nbconvert_exporter": "python",
   "pygments_lexer": "ipython3",
   "version": "3.12.7"
  }
 },
 "nbformat": 4,
 "nbformat_minor": 2
}
